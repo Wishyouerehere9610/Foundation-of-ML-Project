{
 "cells": [
  {
   "cell_type": "code",
   "execution_count": 365,
   "metadata": {},
   "outputs": [],
   "source": [
    "import scipy.io\n",
    "import numpy as np\n",
    "from numpy import cov\n",
    "from numpy.linalg import eig as eigh\n",
    "import matplotlib.pyplot as plt\n",
    "import seaborn as sn\n",
    "import pandas as pd\n",
    "from scipy.stats import multivariate_normal"
   ]
  },
  {
   "cell_type": "markdown",
   "metadata": {},
   "source": [
    "## Task 1. Feature normalization (Data conditioning)."
   ]
  },
  {
   "cell_type": "code",
   "execution_count": 366,
   "metadata": {},
   "outputs": [],
   "source": [
    "#load training data\n",
    "train0= scipy.io.loadmat('training_data_0.mat')\n",
    "train1=scipy.io.loadmat('training_data_1.mat')\n",
    "#load testing data\n",
    "test0=scipy.io.loadmat('testing_data_0.mat')\n",
    "test1=scipy.io.loadmat('testing_data_1.mat')"
   ]
  },
  {
   "cell_type": "code",
   "execution_count": 367,
   "metadata": {},
   "outputs": [],
   "source": [
    "def vectorize(NumberOfSample,data,number):\n",
    "    new=data[number][:,:,0].flatten()\n",
    "    for i in range(1,NumberOfSample):  \n",
    "        new=np.vstack((new,data[number][:,:,i].flatten()))\n",
    "    return new"
   ]
  },
  {
   "cell_type": "code",
   "execution_count": 368,
   "metadata": {},
   "outputs": [],
   "source": [
    "train0_vec=vectorize(train0['nim0'].shape[2],train0,'nim0')\n",
    "train1_vec=vectorize(train1['nim1'].shape[2],train1,'nim1')\n",
    "test0_vec=vectorize(test0['nim0'].shape[2],test0,'nim0')\n",
    "test1_vec=vectorize(test1['nim1'].shape[2],test1,'nim1')"
   ]
  },
  {
   "cell_type": "code",
   "execution_count": 369,
   "metadata": {},
   "outputs": [],
   "source": [
    "train_all=np.vstack((train0_vec,train1_vec))\n",
    "test_all=np.vstack((test0_vec,test1_vec))"
   ]
  },
  {
   "cell_type": "code",
   "execution_count": 370,
   "metadata": {},
   "outputs": [],
   "source": [
    "def mean_std(VecArray):\n",
    "    mean = np.mean(VecArray, axis=0)\n",
    "    std = np.std(VecArray, axis=0)\n",
    "    result=np.vstack((mean,std))\n",
    "    return result"
   ]
  },
  {
   "cell_type": "code",
   "execution_count": 371,
   "metadata": {},
   "outputs": [],
   "source": [
    "train_all_ms=mean_std(train_all)"
   ]
  },
  {
   "cell_type": "code",
   "execution_count": 372,
   "metadata": {},
   "outputs": [],
   "source": [
    "def normalize(x,mean,std):\n",
    "    return (x-mean)/std"
   ]
  },
  {
   "cell_type": "code",
   "execution_count": 373,
   "metadata": {},
   "outputs": [],
   "source": [
    "def updateVec(train_vec,train_vec_ms):\n",
    "    for i in range(train_vec.shape[1]):\n",
    "        for j in range(train_vec.shape[0]):\n",
    "            mean=train_vec_ms[:,i][0]\n",
    "            std=train_vec_ms[:,i][1]\n",
    "            train_vec[:,i][j]=normalize(train_vec[:,i][j],mean,std)\n",
    "    return train_vec"
   ]
  },
  {
   "cell_type": "code",
   "execution_count": 374,
   "metadata": {},
   "outputs": [],
   "source": [
    "#train samples\n",
    "normalized_train_all=updateVec(train_all,train_all_ms)"
   ]
  },
  {
   "cell_type": "code",
   "execution_count": 375,
   "metadata": {},
   "outputs": [],
   "source": [
    "#test samples\n",
    "normalized_test_all=updateVec(test_all,train_all_ms)"
   ]
  },
  {
   "cell_type": "code",
   "execution_count": 399,
   "metadata": {},
   "outputs": [
    {
     "data": {
      "text/plain": [
       "((12665, 784), (2115, 784))"
      ]
     },
     "execution_count": 399,
     "metadata": {},
     "output_type": "execute_result"
    }
   ],
   "source": [
    "normalized_train_all.shape,normalized_test_all.shape"
   ]
  },
  {
   "cell_type": "markdown",
   "metadata": {},
   "source": [
    "## Task 2. PCA using the training samples."
   ]
  },
  {
   "cell_type": "code",
   "execution_count": 376,
   "metadata": {},
   "outputs": [],
   "source": [
    "# Now, we will perfrom the PCA using the training samples\n",
    "# Since I already did the feature normalization, there are two more steps\n",
    "# Step2: computer covariance matrix\n",
    "# Step3: Computer eigenvalue and eigenvector\n",
    "# Step4: eigen analysis"
   ]
  },
  {
   "cell_type": "code",
   "execution_count": 377,
   "metadata": {},
   "outputs": [],
   "source": [
    "#Assign label and combine normalized train data\n",
    "label0=np.zeros((5923,1))\n",
    "label1=np.ones((6742,1))\n",
    "labels=np.vstack((label0,label1))\n",
    "train=np.hstack((normalized_train_all,labels))"
   ]
  },
  {
   "cell_type": "code",
   "execution_count": 378,
   "metadata": {},
   "outputs": [],
   "source": [
    "#Assign label and combine normalized test data\n",
    "label0_test=np.zeros((980,1))\n",
    "label1_test=np.ones((1135,1))\n",
    "labels_test=np.vstack((label0_test,label1_test))\n",
    "test=np.hstack((normalized_test_all,labels_test))"
   ]
  },
  {
   "cell_type": "code",
   "execution_count": 379,
   "metadata": {},
   "outputs": [],
   "source": [
    "#split train and test data to do pca\n",
    "#train\n",
    "train_X=train[:,0:784]\n",
    "train_label=train[:,784]"
   ]
  },
  {
   "cell_type": "code",
   "execution_count": 380,
   "metadata": {},
   "outputs": [],
   "source": [
    "#test\n",
    "test_X=test[:,0:784]\n",
    "test_label=test[:,784]"
   ]
  },
  {
   "cell_type": "code",
   "execution_count": 381,
   "metadata": {},
   "outputs": [],
   "source": [
    "# Step2: computer covariance matrix\n",
    "# train_covar_matrix = np.matmul(train_X.T,train_X)\n",
    "train_covar_matrix = np.cov(train_X.T)"
   ]
  },
  {
   "cell_type": "code",
   "execution_count": 382,
   "metadata": {},
   "outputs": [
    {
     "data": {
      "text/plain": [
       "(784, 784)"
      ]
     },
     "execution_count": 382,
     "metadata": {},
     "output_type": "execute_result"
    }
   ],
   "source": [
    "train_covar_matrix.shape"
   ]
  },
  {
   "cell_type": "code",
   "execution_count": 383,
   "metadata": {},
   "outputs": [],
   "source": [
    "# Step3: Computer eigenvalue and eigenvector\n",
    "train_values, train_vectors = np.linalg.eig(train_covar_matrix)"
   ]
  },
  {
   "cell_type": "code",
   "execution_count": 401,
   "metadata": {},
   "outputs": [
    {
     "data": {
      "text/plain": [
       "(784, 784)"
      ]
     },
     "execution_count": 401,
     "metadata": {},
     "output_type": "execute_result"
    }
   ],
   "source": [
    "train_vectors.shape"
   ]
  },
  {
   "cell_type": "code",
   "execution_count": 407,
   "metadata": {},
   "outputs": [
    {
     "name": "stdout",
     "output_type": "stream",
     "text": [
      "[0.1268632932745279, 0.050769186021883274]\n"
     ]
    }
   ],
   "source": [
    "# Step4: eigen analysis\n",
    "train_variances = []\n",
    "for i in range(len(train_values)):\n",
    "    train_variances.append(train_values[i] / np.sum(train_values))\n",
    "#The first and second principle component    \n",
    "print (train_variances[:2])"
   ]
  },
  {
   "cell_type": "code",
   "execution_count": 385,
   "metadata": {},
   "outputs": [],
   "source": [
    "train_vectorsT=train_vectors.T\n",
    "frist_second_component=np.vstack((train_vectorsT[0],train_vectorsT[1]))\n",
    "project_train = np.matmul(frist_second_component,train_X.T)\n",
    "# new_coordinate_train=project_train.T*(-1)\n",
    "new_coordinate_train=project_train.T"
   ]
  },
  {
   "cell_type": "markdown",
   "metadata": {},
   "source": [
    "## Task 3. Dimension reduction using PCA.\n"
   ]
  },
  {
   "cell_type": "code",
   "execution_count": 386,
   "metadata": {},
   "outputs": [
    {
     "data": {
      "image/png": "[encoded data removed]",
      "text/plain": [
       "<Figure size 483.875x432 with 1 Axes>"
      ]
     },
     "metadata": {
      "needs_background": "light"
     },
     "output_type": "display_data"
    }
   ],
   "source": [
    "#Projec train sampels \n",
    "train_dataframe = pd.DataFrame(data=new_coordinate_train, columns=('1st_principal', '2nd_principal'))\n",
    "train_dataframe['label']=train_label\n",
    "sn.FacetGrid(train_dataframe, hue='label', height=6).map(plt.scatter, '1st_principal', '2nd_principal').add_legend().set(title='Trainig Examples in New 2-D Space')\n",
    "plt.show()"
   ]
  },
  {
   "cell_type": "code",
   "execution_count": 387,
   "metadata": {},
   "outputs": [
    {
     "data": {
      "image/png": "[encoded data removed]",
      "text/plain": [
       "<Figure size 483.875x432 with 1 Axes>"
      ]
     },
     "metadata": {
      "needs_background": "light"
     },
     "output_type": "display_data"
    }
   ],
   "source": [
    "#Projec test sampels \n",
    "project_train = np.matmul(frist_second_component,test_X.T)\n",
    "# new_coordinate_test=(project_train.T)*-1\n",
    "new_coordinate_test=project_train.T\n",
    "test_dataframe = pd.DataFrame(data=new_coordinate_test, columns=('1st_principal', '2nd_principal'))\n",
    "test_dataframe['label']=test_label\n",
    "sn.FacetGrid(test_dataframe, hue='label', height=6).map(plt.scatter, '1st_principal', '2nd_principal').add_legend().set(title='Testing Examples in New 2-D Space')\n",
    "plt.show()"
   ]
  },
  {
   "cell_type": "markdown",
   "metadata": {},
   "source": [
    "## Task 4. Density estimation."
   ]
  },
  {
   "cell_type": "code",
   "execution_count": 388,
   "metadata": {},
   "outputs": [],
   "source": [
    "def DensityEstimation(train):\n",
    "    mean = np.mean(train, axis=0)\n",
    "    cov= np.cov(train.T)\n",
    "    return [mean,cov]"
   ]
  },
  {
   "cell_type": "code",
   "execution_count": 389,
   "metadata": {},
   "outputs": [],
   "source": [
    "# Becasue we assume in the 2-D space, samples from each class follow a Gaussian distribution.\n",
    "# Then we just need to estimate the parameters for 2-d normal distribution for each class/digit\n",
    "# Digit0: N~(µ0, Σ0)\n",
    "train0_data=new_coordinate_train[:5923]\n",
    "train0_variable=DensityEstimation(train0_data)"
   ]
  },
  {
   "cell_type": "code",
   "execution_count": 390,
   "metadata": {},
   "outputs": [],
   "source": [
    "# Digit1: N~(µ1, Σ1)\n",
    "train1_data=new_coordinate_train[5923:]\n",
    "train1_variable=DensityEstimation(train1_data)"
   ]
  },
  {
   "cell_type": "code",
   "execution_count": 391,
   "metadata": {},
   "outputs": [
    {
     "name": "stdout",
     "output_type": "stream",
     "text": [
      "Parameter for train0 normal distribution: mean: [-9.92384569  0.8514571 ] cov: [[25.32460567 15.90014464]\n",
      " [15.90014464 79.11311962]]\n"
     ]
    }
   ],
   "source": [
    "print(\"Parameter for train0 normal distribution:\",\"mean:\",train0_variable[0],\"cov:\",train0_variable[1])"
   ]
  },
  {
   "cell_type": "code",
   "execution_count": 392,
   "metadata": {},
   "outputs": [
    {
     "name": "stdout",
     "output_type": "stream",
     "text": [
      "Parameter for train1 normal distribution: mean: [ 8.71832365 -0.74802439] cov: [[ 2.06676736 -0.02148539]\n",
      " [-0.02148539  4.0841354 ]]\n"
     ]
    }
   ],
   "source": [
    "print(\"Parameter for train1 normal distribution:\",\"mean:\",train1_variable[0],\"cov:\",train1_variable[1])"
   ]
  },
  {
   "cell_type": "markdown",
   "metadata": {},
   "source": [
    "## Task 5. Bayesian Decision Theory for optimal classification."
   ]
  },
  {
   "cell_type": "code",
   "execution_count": 393,
   "metadata": {},
   "outputs": [],
   "source": [
    "#Predict since we using minimum-error-rate classification, \n",
    "#we decide class 0 if P(class0)*P(X|class0)>P(class1)*P(X|class1)\n",
    "#Since P(class0)=P(class1)=0.5, we only need to compare P(X|class0) and P(X|class1)\n",
    "def predict(train0_variable,train1_varibale,new_coordinate_test):\n",
    "    p0_prio=0.5\n",
    "    p1_prio=0.5\n",
    "    result=[]\n",
    "    var0 = multivariate_normal(mean=train0_variable[0],cov=train0_variable[1])\n",
    "    var1 = multivariate_normal(mean=train1_variable[0],cov=train1_variable[1])\n",
    "    for i in range(new_coordinate_test.shape[0]):\n",
    "        p0=var0.pdf([new_coordinate_test[i][0],new_coordinate_test[i][1]])\n",
    "        p1=var1.pdf([new_coordinate_test[i][0],new_coordinate_test[i][1]])   \n",
    "        if (p0*p0_prio)>(p1*p1_prio):\n",
    "            result.append(0)\n",
    "        else:\n",
    "            result.append(1)\n",
    "    return result"
   ]
  },
  {
   "cell_type": "code",
   "execution_count": 394,
   "metadata": {},
   "outputs": [
    {
     "name": "stdout",
     "output_type": "stream",
     "text": [
      "Training set accuracy: 0.9887879984208449\n"
     ]
    }
   ],
   "source": [
    "predict_result_train=predict(train0_variable,train1_varibale,new_coordinate_train)\n",
    "train_truth=list(train_label)\n",
    "train_accuracy = len([predict_result_train[i] for i in range(0, len(predict_result_train)) if predict_result_train[i] == train_truth[i]]) / len(predict_result_train)\n",
    "print(\"Training set accuracy:\",train_accuracy)"
   ]
  },
  {
   "cell_type": "code",
   "execution_count": 395,
   "metadata": {},
   "outputs": [
    {
     "name": "stdout",
     "output_type": "stream",
     "text": [
      "Testing set accuracy: 0.9919621749408983\n"
     ]
    }
   ],
   "source": [
    "predict_result=predict(train0_variable,train1_varibale,new_coordinate_test)\n",
    "test_truth=list(test_label)\n",
    "test_accuracy = len([predict_result[i] for i in range(0, len(predict_result)) if predict_result[i] == test_truth[i]]) / len(predict_result)\n",
    "print(\"Testing set accuracy:\",test_accuracy)"
   ]
  },
  {
   "cell_type": "code",
   "execution_count": null,
   "metadata": {},
   "outputs": [],
   "source": []
  }
 ],
 "metadata": {
  "kernelspec": {
   "display_name": "Python 3",
   "language": "python",
   "name": "python3"
  },
  "language_info": {
   "codemirror_mode": {
    "name": "ipython",
    "version": 3
   },
   "file_extension": ".py",
   "mimetype": "text/x-python",
   "name": "python",
   "nbconvert_exporter": "python",
   "pygments_lexer": "ipython3",
   "version": "3.7.3"
  }
 },
 "nbformat": 4,
 "nbformat_minor": 2
}
